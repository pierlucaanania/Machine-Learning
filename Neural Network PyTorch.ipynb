{
 "cells": [
  {
   "cell_type": "markdown",
   "id": "528f7c31",
   "metadata": {},
   "source": [
    "# Simple Neural Network using PyTorch #\n",
    "\n",
    "Author: ****Pier Luca Anania****"
   ]
  },
  {
   "cell_type": "code",
   "execution_count": 1,
   "id": "a544505a",
   "metadata": {},
   "outputs": [
    {
     "name": "stdout",
     "output_type": "stream",
     "text": [
      "Requirement already satisfied: torch in c:\\users\\asus\\anaconda3\\lib\\site-packages (2.1.1)\n",
      "Requirement already satisfied: filelock in c:\\users\\asus\\anaconda3\\lib\\site-packages (from torch) (3.9.0)\n",
      "Requirement already satisfied: typing-extensions in c:\\users\\asus\\anaconda3\\lib\\site-packages (from torch) (4.7.1)\n",
      "Requirement already satisfied: sympy in c:\\users\\asus\\anaconda3\\lib\\site-packages (from torch) (1.11.1)\n",
      "Requirement already satisfied: networkx in c:\\users\\asus\\anaconda3\\lib\\site-packages (from torch) (3.1)\n",
      "Requirement already satisfied: jinja2 in c:\\users\\asus\\anaconda3\\lib\\site-packages (from torch) (3.1.2)\n",
      "Requirement already satisfied: fsspec in c:\\users\\asus\\anaconda3\\lib\\site-packages (from torch) (2023.4.0)\n",
      "Requirement already satisfied: MarkupSafe>=2.0 in c:\\users\\asus\\anaconda3\\lib\\site-packages (from jinja2->torch) (2.1.1)\n",
      "Requirement already satisfied: mpmath>=0.19 in c:\\users\\asus\\anaconda3\\lib\\site-packages (from sympy->torch) (1.3.0)\n",
      "Note: you may need to restart the kernel to use updated packages.\n"
     ]
    }
   ],
   "source": [
    "pip install torch"
   ]
  },
  {
   "cell_type": "markdown",
   "id": "702d4e41",
   "metadata": {},
   "source": [
    "In this example we're going to use **Iris Dataset**"
   ]
  },
  {
   "cell_type": "code",
   "execution_count": 2,
   "id": "633e8180",
   "metadata": {},
   "outputs": [],
   "source": [
    "import torch\n",
    "import torch.nn as nn                   #Neural Network\n",
    "import torch.nn.functional as F         #to move data forward in our function"
   ]
  },
  {
   "cell_type": "markdown",
   "id": "bc751aae",
   "metadata": {},
   "source": [
    "Create a model class that inherits _nn.Module_"
   ]
  },
  {
   "cell_type": "code",
   "execution_count": 3,
   "id": "34282bc1",
   "metadata": {},
   "outputs": [],
   "source": [
    "class Model(nn.Module):\n",
    "    \n",
    "    '''Structure:\n",
    "    - Input Layer (4 features of the flower: sepal lenght/width, petal lenght/width)\n",
    "    - Hidden Layer 1 := H1 (# of neurons)\n",
    "    - H2 (# of neurons)\n",
    "    - Output Layer (3 classes of Iris flowers: Iris Setosa/Versicolour/Virginica)\n",
    "    '''\n",
    "    def __init__(self, in_features=4, h1=8, h2=9, out_features=3):\n",
    "        \n",
    "        super().__init__()                                 #instantiate our nn.Module\n",
    "        self.fc1 = nn.Linear(in_features, h1)              #fc := fully connected\n",
    "        self.fc2 = nn.Linear(h1, h2)\n",
    "        self.out = nn.Linear(h2, out_features)\n",
    "    \n",
    "    def forward(self, x):       #function to move everything forward\n",
    "        \n",
    "        x = F.relu(self.fc1(x))\n",
    "        x = F.relu(self.fc2(x))\n",
    "        x = self.out(x)\n",
    "        \n",
    "        return x\n"
   ]
  },
  {
   "cell_type": "markdown",
   "id": "99c3a919",
   "metadata": {},
   "source": [
    "Pick a manual seed for randomization"
   ]
  },
  {
   "cell_type": "code",
   "execution_count": 4,
   "id": "c93289ca",
   "metadata": {},
   "outputs": [
    {
     "data": {
      "text/plain": [
       "<torch._C.Generator at 0x2080ba85090>"
      ]
     },
     "execution_count": 4,
     "metadata": {},
     "output_type": "execute_result"
    }
   ],
   "source": [
    "torch.manual_seed(41)"
   ]
  },
  {
   "cell_type": "markdown",
   "id": "acc54c0d",
   "metadata": {},
   "source": [
    "Create an instance of our Model"
   ]
  },
  {
   "cell_type": "code",
   "execution_count": 5,
   "id": "9ab3dba6",
   "metadata": {},
   "outputs": [],
   "source": [
    "model = Model()"
   ]
  },
  {
   "cell_type": "markdown",
   "id": "c872c48b",
   "metadata": {},
   "source": [
    "## Working with Data"
   ]
  },
  {
   "cell_type": "code",
   "execution_count": 6,
   "id": "f54287b7",
   "metadata": {},
   "outputs": [
    {
     "data": {
      "text/html": [
       "<div>\n",
       "<style scoped>\n",
       "    .dataframe tbody tr th:only-of-type {\n",
       "        vertical-align: middle;\n",
       "    }\n",
       "\n",
       "    .dataframe tbody tr th {\n",
       "        vertical-align: top;\n",
       "    }\n",
       "\n",
       "    .dataframe thead th {\n",
       "        text-align: right;\n",
       "    }\n",
       "</style>\n",
       "<table border=\"1\" class=\"dataframe\">\n",
       "  <thead>\n",
       "    <tr style=\"text-align: right;\">\n",
       "      <th></th>\n",
       "      <th>sepal.length</th>\n",
       "      <th>sepal.width</th>\n",
       "      <th>petal.length</th>\n",
       "      <th>petal.width</th>\n",
       "      <th>variety</th>\n",
       "    </tr>\n",
       "  </thead>\n",
       "  <tbody>\n",
       "    <tr>\n",
       "      <th>0</th>\n",
       "      <td>5.1</td>\n",
       "      <td>3.5</td>\n",
       "      <td>1.4</td>\n",
       "      <td>0.2</td>\n",
       "      <td>Setosa</td>\n",
       "    </tr>\n",
       "    <tr>\n",
       "      <th>1</th>\n",
       "      <td>4.9</td>\n",
       "      <td>3.0</td>\n",
       "      <td>1.4</td>\n",
       "      <td>0.2</td>\n",
       "      <td>Setosa</td>\n",
       "    </tr>\n",
       "    <tr>\n",
       "      <th>2</th>\n",
       "      <td>4.7</td>\n",
       "      <td>3.2</td>\n",
       "      <td>1.3</td>\n",
       "      <td>0.2</td>\n",
       "      <td>Setosa</td>\n",
       "    </tr>\n",
       "    <tr>\n",
       "      <th>3</th>\n",
       "      <td>4.6</td>\n",
       "      <td>3.1</td>\n",
       "      <td>1.5</td>\n",
       "      <td>0.2</td>\n",
       "      <td>Setosa</td>\n",
       "    </tr>\n",
       "    <tr>\n",
       "      <th>4</th>\n",
       "      <td>5.0</td>\n",
       "      <td>3.6</td>\n",
       "      <td>1.4</td>\n",
       "      <td>0.2</td>\n",
       "      <td>Setosa</td>\n",
       "    </tr>\n",
       "  </tbody>\n",
       "</table>\n",
       "</div>"
      ],
      "text/plain": [
       "   sepal.length  sepal.width  petal.length  petal.width variety\n",
       "0           5.1          3.5           1.4          0.2  Setosa\n",
       "1           4.9          3.0           1.4          0.2  Setosa\n",
       "2           4.7          3.2           1.3          0.2  Setosa\n",
       "3           4.6          3.1           1.5          0.2  Setosa\n",
       "4           5.0          3.6           1.4          0.2  Setosa"
      ]
     },
     "execution_count": 6,
     "metadata": {},
     "output_type": "execute_result"
    }
   ],
   "source": [
    "import matplotlib.pyplot as plt\n",
    "import pandas as pd\n",
    "%matplotlib inline \n",
    "\n",
    "url = 'https://gist.githubusercontent.com/netj/8836201/raw/6f9306ad21398ea43cba4f7d537619d0e07d5ae3/iris.csv'\n",
    "my_df = pd.read_csv(url)\n",
    "my_df.head(5)"
   ]
  },
  {
   "cell_type": "code",
   "execution_count": 7,
   "id": "6d0ec46f",
   "metadata": {},
   "outputs": [
    {
     "data": {
      "text/plain": [
       "array(['Setosa', 'Versicolor', 'Virginica'], dtype=object)"
      ]
     },
     "execution_count": 7,
     "metadata": {},
     "output_type": "execute_result"
    }
   ],
   "source": [
    "#Visualize different elements of variety\n",
    "\n",
    "my_df['variety'].unique()"
   ]
  },
  {
   "cell_type": "code",
   "execution_count": 8,
   "id": "bc8e7025",
   "metadata": {},
   "outputs": [
    {
     "data": {
      "text/plain": [
       "array([0., 1., 2.])"
      ]
     },
     "execution_count": 8,
     "metadata": {},
     "output_type": "execute_result"
    }
   ],
   "source": [
    "#Encoding variety column: str --> int\n",
    "\n",
    "my_df['variety'] = my_df['variety'].replace('Setosa', 0.0)\n",
    "my_df['variety'] = my_df['variety'].replace('Versicolor', 1.0)\n",
    "my_df['variety'] = my_df['variety'].replace('Virginica', 2.0)\n",
    "\n",
    "my_df['variety'].unique()"
   ]
  },
  {
   "cell_type": "markdown",
   "id": "71f10cc1",
   "metadata": {},
   "source": [
    "Train Test Split ---> set X,y"
   ]
  },
  {
   "cell_type": "code",
   "execution_count": 9,
   "id": "dafbddf4",
   "metadata": {},
   "outputs": [],
   "source": [
    "X = my_df.drop('variety', axis=1)    #Select features w/o variety\n",
    "y = my_df['variety']"
   ]
  },
  {
   "cell_type": "markdown",
   "id": "c578daf8",
   "metadata": {},
   "source": [
    "Convert the dataframe into numpy arrays"
   ]
  },
  {
   "cell_type": "code",
   "execution_count": 10,
   "id": "d869d98b",
   "metadata": {},
   "outputs": [],
   "source": [
    "X = X.values\n",
    "y = y.values"
   ]
  },
  {
   "cell_type": "markdown",
   "id": "c660e907",
   "metadata": {},
   "source": [
    "Start work on NN"
   ]
  },
  {
   "cell_type": "code",
   "execution_count": 11,
   "id": "0c626a9e",
   "metadata": {},
   "outputs": [],
   "source": [
    "from sklearn.model_selection import train_test_split\n",
    "\n",
    "X_train, X_test, y_train, y_test = train_test_split(X, y, \n",
    "                                                    test_size=0.2,        \n",
    "                                                    random_state=41)     # % of test data"
   ]
  },
  {
   "cell_type": "markdown",
   "id": "7181f492",
   "metadata": {},
   "source": [
    "Convert X features to Tensor with float numbers"
   ]
  },
  {
   "cell_type": "code",
   "execution_count": 12,
   "id": "932f8759",
   "metadata": {},
   "outputs": [],
   "source": [
    "X_train = torch.FloatTensor(X_train)\n",
    "X_test = torch.FloatTensor(X_test)"
   ]
  },
  {
   "cell_type": "markdown",
   "id": "18cbdacc",
   "metadata": {},
   "source": [
    "Convert y labels to Tensor Long"
   ]
  },
  {
   "cell_type": "code",
   "execution_count": 13,
   "id": "b21429cc",
   "metadata": {},
   "outputs": [],
   "source": [
    "y_train = torch.LongTensor(y_train)\n",
    "y_test = torch.LongTensor(y_test)"
   ]
  },
  {
   "cell_type": "markdown",
   "id": "cec504a2",
   "metadata": {},
   "source": [
    "Set the criterion to measure the error, how far off the predictions are from the data"
   ]
  },
  {
   "cell_type": "code",
   "execution_count": 14,
   "id": "2c9bdfb6",
   "metadata": {},
   "outputs": [],
   "source": [
    "criterion = nn.CrossEntropyLoss()"
   ]
  },
  {
   "cell_type": "markdown",
   "id": "ce68f5f3",
   "metadata": {},
   "source": [
    "Choose ADAM optimizer: lr := learning rate"
   ]
  },
  {
   "cell_type": "code",
   "execution_count": 15,
   "id": "83179b98",
   "metadata": {},
   "outputs": [
    {
     "data": {
      "text/plain": [
       "<bound method Module.parameters of Model(\n",
       "  (fc1): Linear(in_features=4, out_features=8, bias=True)\n",
       "  (fc2): Linear(in_features=8, out_features=9, bias=True)\n",
       "  (out): Linear(in_features=9, out_features=3, bias=True)\n",
       ")>"
      ]
     },
     "execution_count": 15,
     "metadata": {},
     "output_type": "execute_result"
    }
   ],
   "source": [
    "optimizer = torch.optim.Adam(model.parameters(), lr=0.01)\n",
    "model.parameters #just to show"
   ]
  },
  {
   "cell_type": "markdown",
   "id": "2d397ba9",
   "metadata": {},
   "source": [
    "Train model:\n",
    "\n",
    "number of Epochs -- Epoch is one run thru all the training data in our network"
   ]
  },
  {
   "cell_type": "code",
   "execution_count": 16,
   "id": "7643efbc",
   "metadata": {},
   "outputs": [
    {
     "name": "stdout",
     "output_type": "stream",
     "text": [
      "Epoch: 0 Loss: 1.125203251838684\n",
      "Epoch: 10 Loss: 1.0097211599349976\n",
      "Epoch: 20 Loss: 0.8162347674369812\n",
      "Epoch: 30 Loss: 0.5859931111335754\n",
      "Epoch: 40 Loss: 0.40033894777297974\n",
      "Epoch: 50 Loss: 0.26794713735580444\n",
      "Epoch: 60 Loss: 0.1796349436044693\n",
      "Epoch: 70 Loss: 0.12165624648332596\n",
      "Epoch: 80 Loss: 0.0860651507973671\n",
      "Epoch: 90 Loss: 0.06522615998983383\n",
      "Epoch: 100 Loss: 0.05286872759461403\n",
      "Epoch: 110 Loss: 0.04508011043071747\n",
      "Epoch: 120 Loss: 0.03979313746094704\n",
      "Epoch: 130 Loss: 0.03596426174044609\n",
      "Epoch: 140 Loss: 0.033027999103069305\n",
      "Epoch: 150 Loss: 0.030512522906064987\n",
      "Epoch: 160 Loss: 0.027733536437153816\n",
      "Epoch: 170 Loss: 0.02461211010813713\n",
      "Epoch: 180 Loss: 0.021672355011105537\n",
      "Epoch: 190 Loss: 0.019320257008075714\n"
     ]
    }
   ],
   "source": [
    "epochs = 200\n",
    "losses = []\n",
    "\n",
    "for i in range(epochs):\n",
    "    \n",
    "    #Go forward and get prediction\n",
    "    y_pred = model.forward(X_train)\n",
    "    \n",
    "    #Measure the loss: predicted values - trained values\n",
    "    loss = criterion(y_pred, y_train)\n",
    "    \n",
    "    #Keep track of our losses\n",
    "    losses.append(loss.detach().numpy())\n",
    "    \n",
    "    #Print every 10 Epochs\n",
    "    if i%10 == 0:\n",
    "        print(f'Epoch: {i} Loss: {loss}')\n",
    "    \n",
    "    #Backpropagation -> fine tuning of the weights\n",
    "    optimizer.zero_grad()\n",
    "    loss.backward()\n",
    "    optimizer.step()"
   ]
  },
  {
   "cell_type": "markdown",
   "id": "6722e230",
   "metadata": {},
   "source": [
    "Graph"
   ]
  },
  {
   "cell_type": "code",
   "execution_count": 17,
   "id": "2621d5f9",
   "metadata": {},
   "outputs": [
    {
     "data": {
      "image/png": "[encoded data removed]",
      "text/plain": [
       "<Figure size 640x480 with 1 Axes>"
      ]
     },
     "metadata": {},
     "output_type": "display_data"
    }
   ],
   "source": [
    "plt.plot(range(epochs), losses)\n",
    "plt.xlabel('Epoch')\n",
    "plt.ylabel('Error')\n",
    "plt.grid()"
   ]
  },
  {
   "cell_type": "markdown",
   "id": "208b4895",
   "metadata": {},
   "source": [
    "Evaluate the model on the test set - validate model"
   ]
  },
  {
   "cell_type": "code",
   "execution_count": 18,
   "id": "6a309eea",
   "metadata": {},
   "outputs": [],
   "source": [
    "with torch.no_grad():        #basically turn off backpropagation: test doesn't need BP\n",
    "    \n",
    "    y_eval = model.forward(X_test)      #X_test are features from our test set, y_eval will be predictions\n",
    "    loss = criterion(y_eval, y_test)      #find loss/error\n",
    "    "
   ]
  },
  {
   "cell_type": "code",
   "execution_count": 19,
   "id": "9b8c8dca",
   "metadata": {},
   "outputs": [
    {
     "name": "stdout",
     "output_type": "stream",
     "text": [
      "1.)  tensor([-7.0835,  3.9383,  8.7365]) \t Test: 2 Name: Virginica \t Val: 2\n",
      "2.)  tensor([-9.8711,  1.7715, 15.9529]) \t Test: 2 Name: Virginica \t Val: 2\n",
      "3.)  tensor([-10.8322,   3.0171,  16.0896]) \t Test: 2 Name: Virginica \t Val: 2\n",
      "4.)  tensor([-3.9555,  7.8952, -1.1898]) \t Test: 1 Name: Versicolor \t Val: 1\n",
      "5.)  tensor([-8.9618,  3.6069, 12.2658]) \t Test: 2 Name: Virginica \t Val: 2\n",
      "6.)  tensor([-2.1212,  8.5257, -5.1761]) \t Test: 1 Name: Versicolor \t Val: 1\n",
      "7.)  tensor([-6.8941,  4.9858,  7.1657]) \t Test: 2 Name: Virginica \t Val: 2\n",
      "8.)  tensor([-3.8531,  8.0700, -1.5697]) \t Test: 1 Name: Versicolor \t Val: 1\n",
      "9.)  tensor([-7.9051,  4.2999,  9.6753]) \t Test: 2 Name: Virginica \t Val: 2\n",
      "10.)  tensor([-10.5531,   1.8381,  17.0211]) \t Test: 2 Name: Virginica \t Val: 2\n",
      "11.)  tensor([-6.5108,  5.1472,  6.3424]) \t Test: 2 Name: Virginica \t Val: 2\n",
      "12.)  tensor([ 11.4622,   1.4094, -20.3323]) \t Test: 0 Name: Setosa \t Val: 0\n",
      "13.)  tensor([ 10.5284,   1.2514, -18.4662]) \t Test: 0 Name: Setosa \t Val: 0\n",
      "14.)  tensor([-0.5116,  6.7448, -5.8110]) \t Test: 1 Name: Versicolor \t Val: 1\n",
      "15.)  tensor([  9.2710,   2.4323, -17.7519]) \t Test: 0 Name: Setosa \t Val: 0\n",
      "16.)  tensor([-6.0439,  5.7623,  4.8405]) \t Test: 2 Name: Virginica \t Val: 1\n",
      "17.)  tensor([ 10.3118,   1.5840, -18.5376]) \t Test: 0 Name: Setosa \t Val: 0\n",
      "18.)  tensor([-6.8871,  4.3157,  7.9686]) \t Test: 1 Name: Versicolor \t Val: 2\n",
      "19.)  tensor([ 12.2257,   1.0170, -21.1434]) \t Test: 0 Name: Setosa \t Val: 0\n",
      "20.)  tensor([  8.8681,   1.9639, -16.4603]) \t Test: 0 Name: Setosa \t Val: 0\n",
      "21.)  tensor([-1.1309,  7.4374, -5.5752]) \t Test: 1 Name: Versicolor \t Val: 1\n",
      "22.)  tensor([-9.9418,  2.7814, 14.8861]) \t Test: 2 Name: Virginica \t Val: 2\n",
      "23.)  tensor([  9.4448,   2.3280, -17.9299]) \t Test: 0 Name: Setosa \t Val: 0\n",
      "24.)  tensor([ 11.2165,   1.2277, -19.6488]) \t Test: 0 Name: Setosa \t Val: 0\n",
      "25.)  tensor([-1.0860,  7.6628, -5.9351]) \t Test: 1 Name: Versicolor \t Val: 1\n",
      "26.)  tensor([-2.0465,  8.2446, -4.9591]) \t Test: 1 Name: Versicolor \t Val: 1\n",
      "27.)  tensor([-4.3792,  7.9224, -0.5155]) \t Test: 1 Name: Versicolor \t Val: 1\n",
      "28.)  tensor([-1.5276,  7.8740, -5.4143]) \t Test: 1 Name: Versicolor \t Val: 1\n",
      "29.)  tensor([ 11.4494,   1.3475, -20.2247]) \t Test: 0 Name: Setosa \t Val: 0\n",
      "30.)  tensor([-4.4309,  7.3080,  0.3039]) \t Test: 1 Name: Versicolor \t Val: 1\n",
      "\n",
      "# of correct data: 28\n"
     ]
    }
   ],
   "source": [
    "correct = 0\n",
    "\n",
    "with torch.no_grad():\n",
    "    \n",
    "    for i,data in enumerate(X_test):\n",
    "        y_val = model.forward(data)\n",
    "        \n",
    "        if y_test[i] == 0:\n",
    "            name = 'Setosa'\n",
    "        elif y_test[i] == 1:\n",
    "            name = 'Versicolor'\n",
    "        else:\n",
    "            name = 'Virginica'\n",
    "        \n",
    "        #Results\n",
    "        print(f'{i+1}.)  {str(y_val)} \\t Test: {y_test[i]} Name: {name} \\t Val: {y_val.argmax().item()}')\n",
    "        \n",
    "        #Correct or not\n",
    "        if y_val.argmax().item() == y_test[i]:\n",
    "            correct += 1\n",
    "            \n",
    "print(f'\\n# of correct data: {correct}')\n",
    "            "
   ]
  },
  {
   "cell_type": "markdown",
   "id": "d291dbf5",
   "metadata": {},
   "source": [
    "Here column 1 refers to 0.0, 2 to 1.0 and 3 to 2.0. The highest number is the type of flower"
   ]
  },
  {
   "cell_type": "markdown",
   "id": "e9610e4c",
   "metadata": {},
   "source": [
    "**Evaluate the model with new data**"
   ]
  },
  {
   "cell_type": "code",
   "execution_count": 20,
   "id": "585de352",
   "metadata": {},
   "outputs": [
    {
     "name": "stdout",
     "output_type": "stream",
     "text": [
      "tensor([ 11.2165,   1.2277, -19.6488])\n",
      "Highest value: 0\n"
     ]
    }
   ],
   "source": [
    "#Create new data\n",
    "\n",
    "new_iris = torch.tensor([4.7, 3.2, 1.3, 0.2])\n",
    "\n",
    "with torch.no_grad():\n",
    "    print(model(new_iris))\n",
    "    print(f'Highest value: {model(new_iris).argmax()}')\n",
    "    "
   ]
  },
  {
   "cell_type": "code",
   "execution_count": 21,
   "id": "52a8b90f",
   "metadata": {},
   "outputs": [
    {
     "name": "stdout",
     "output_type": "stream",
     "text": [
      "tensor([-9.6917, -0.6670, 19.6861])\n",
      "Highest value: 2\n"
     ]
    }
   ],
   "source": [
    "new_iris2 = torch.tensor([1, 34.6, 13, 10.2])\n",
    "\n",
    "with torch.no_grad():\n",
    "    print(model(new_iris2))\n",
    "    print(f'Highest value: {model(new_iris2).argmax()}')"
   ]
  },
  {
   "cell_type": "markdown",
   "id": "e0bf25f0",
   "metadata": {},
   "source": [
    "### Save NN Model ###\n",
    "\n",
    "Save in a dictionary, second argument is the name of the module"
   ]
  },
  {
   "cell_type": "code",
   "execution_count": 22,
   "id": "87fb711f",
   "metadata": {},
   "outputs": [],
   "source": [
    "torch.save(model.state_dict(), 'NN_iris_model.pt' )"
   ]
  },
  {
   "cell_type": "markdown",
   "id": "f1283c76",
   "metadata": {},
   "source": [
    "Load  the saved model:"
   ]
  },
  {
   "cell_type": "code",
   "execution_count": 23,
   "id": "52be264f",
   "metadata": {},
   "outputs": [
    {
     "data": {
      "text/plain": [
       "<All keys matched successfully>"
      ]
     },
     "execution_count": 23,
     "metadata": {},
     "output_type": "execute_result"
    }
   ],
   "source": [
    "#Set the model\n",
    "new_model = Model()\n",
    "\n",
    "#Load wheight and biases\n",
    "new_model.load_state_dict(torch.load('NN_iris_model.pt'))"
   ]
  },
  {
   "cell_type": "code",
   "execution_count": 24,
   "id": "3ec69b3a",
   "metadata": {},
   "outputs": [
    {
     "data": {
      "text/plain": [
       "Model(\n",
       "  (fc1): Linear(in_features=4, out_features=8, bias=True)\n",
       "  (fc2): Linear(in_features=8, out_features=9, bias=True)\n",
       "  (out): Linear(in_features=9, out_features=3, bias=True)\n",
       ")"
      ]
     },
     "execution_count": 24,
     "metadata": {},
     "output_type": "execute_result"
    }
   ],
   "source": [
    "#Make sure it loaded correctly\n",
    "new_model.eval()"
   ]
  },
  {
   "cell_type": "code",
   "execution_count": null,
   "id": "bb4c72d5",
   "metadata": {},
   "outputs": [],
   "source": []
  }
 ],
 "metadata": {
  "kernelspec": {
   "display_name": "Python 3 (ipykernel)",
   "language": "python",
   "name": "python3"
  },
  "language_info": {
   "codemirror_mode": {
    "name": "ipython",
    "version": 3
   },
   "file_extension": ".py",
   "mimetype": "text/x-python",
   "name": "python",
   "nbconvert_exporter": "python",
   "pygments_lexer": "ipython3",
   "version": "3.11.5"
  }
 },
 "nbformat": 4,
 "nbformat_minor": 5
}

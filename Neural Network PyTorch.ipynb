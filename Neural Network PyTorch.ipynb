{
 "cells": [
  {
   "cell_type": "markdown",
   "id": "99306d24",
   "metadata": {},
   "source": [
    "# Simple Neural Network using PyTorch #\n",
    "\n",
    "Author: ****Pier Luca Anania****"
   ]
  },
  {
   "cell_type": "code",
   "execution_count": 3,
   "id": "d1c0e2cc",
   "metadata": {},
   "outputs": [
    {
     "name": "stdout",
     "output_type": "stream",
     "text": [
      "Requirement already satisfied: torch in c:\\users\\asus\\anaconda3\\lib\\site-packages (2.1.1)\n",
      "Requirement already satisfied: filelock in c:\\users\\asus\\anaconda3\\lib\\site-packages (from torch) (3.9.0)\n",
      "Requirement already satisfied: typing-extensions in c:\\users\\asus\\anaconda3\\lib\\site-packages (from torch) (4.7.1)\n",
      "Requirement already satisfied: sympy in c:\\users\\asus\\anaconda3\\lib\\site-packages (from torch) (1.11.1)\n",
      "Requirement already satisfied: networkx in c:\\users\\asus\\anaconda3\\lib\\site-packages (from torch) (3.1)\n",
      "Requirement already satisfied: jinja2 in c:\\users\\asus\\anaconda3\\lib\\site-packages (from torch) (3.1.2)\n",
      "Requirement already satisfied: fsspec in c:\\users\\asus\\anaconda3\\lib\\site-packages (from torch) (2023.4.0)\n",
      "Requirement already satisfied: MarkupSafe>=2.0 in c:\\users\\asus\\anaconda3\\lib\\site-packages (from jinja2->torch) (2.1.1)\n",
      "Requirement already satisfied: mpmath>=0.19 in c:\\users\\asus\\anaconda3\\lib\\site-packages (from sympy->torch) (1.3.0)\n",
      "Note: you may need to restart the kernel to use updated packages.\n"
     ]
    }
   ],
   "source": [
    "pip install torch"
   ]
  },
  {
   "cell_type": "markdown",
   "id": "adfe739f",
   "metadata": {},
   "source": [
    "In this example we're going to use **Iris Dataset**"
   ]
  },
  {
   "cell_type": "code",
   "execution_count": 6,
   "id": "57c183e6",
   "metadata": {},
   "outputs": [],
   "source": [
    "import torch\n",
    "import torch.nn as nn                   #Neural Network\n",
    "import torch.nn.functional as F         #to move data forward in our function"
   ]
  },
  {
   "cell_type": "markdown",
   "id": "5978c4b9",
   "metadata": {},
   "source": [
    "Create a model class that inherits _nn.Module_"
   ]
  },
  {
   "cell_type": "code",
   "execution_count": 13,
   "id": "9135ecbe",
   "metadata": {},
   "outputs": [],
   "source": [
    "class Model(nn.Module):\n",
    "    \n",
    "    '''Structure:\n",
    "    - Input Layer (4 features of the flower: sepal lenght/width, petal lenght/width)\n",
    "    - Hidden Layer 1 := H1 (# of neurons)\n",
    "    - H2 (# of neurons)\n",
    "    - Output Layer (3 classes of Iris flowers: Iris Setosa/Versicolour/Virginica)\n",
    "    '''\n",
    "    def __init__(self, in_features=4, h1=8, h2=9, out_features=3):\n",
    "        \n",
    "        super().__init__()                                 #instantiate our nn.Module\n",
    "        self.fc1 = nn.Linear(in_features, h1)              #fc := fully connected\n",
    "        self.fc2 = nn.Linear(h1, h2)\n",
    "        self.out = nn.Linear(h2, out_features)\n",
    "    \n",
    "    def forward(self, x):       #function to move everything forward\n",
    "        \n",
    "        x = F.relu(self.fc1(x))\n",
    "        x = F.relu(self.fc2(x))\n",
    "        x = self.out(x)\n",
    "        \n",
    "        return x\n",
    "    \n",
    "    \n",
    "\n",
    "    \n",
    "    \n",
    "    "
   ]
  },
  {
   "cell_type": "markdown",
   "id": "68d75474",
   "metadata": {},
   "source": [
    "Pick a manual seed for randomization"
   ]
  },
  {
   "cell_type": "code",
   "execution_count": 14,
   "id": "61d2d3a7",
   "metadata": {},
   "outputs": [
    {
     "data": {
      "text/plain": [
       "<torch._C.Generator at 0x162894c8f90>"
      ]
     },
     "execution_count": 14,
     "metadata": {},
     "output_type": "execute_result"
    }
   ],
   "source": [
    "torch.manual_seed(41)"
   ]
  },
  {
   "cell_type": "markdown",
   "id": "a0c6226e",
   "metadata": {},
   "source": [
    "Create an instance of our Model"
   ]
  },
  {
   "cell_type": "code",
   "execution_count": 15,
   "id": "0e92fb88",
   "metadata": {},
   "outputs": [],
   "source": [
    "model = Model()"
   ]
  },
  {
   "cell_type": "code",
   "execution_count": null,
   "id": "fef7a3d1",
   "metadata": {},
   "outputs": [],
   "source": []
  }
 ],
 "metadata": {
  "kernelspec": {
   "display_name": "Python 3 (ipykernel)",
   "language": "python",
   "name": "python3"
  },
  "language_info": {
   "codemirror_mode": {
    "name": "ipython",
    "version": 3
   },
   "file_extension": ".py",
   "mimetype": "text/x-python",
   "name": "python",
   "nbconvert_exporter": "python",
   "pygments_lexer": "ipython3",
   "version": "3.11.5"
  }
 },
 "nbformat": 4,
 "nbformat_minor": 5
}

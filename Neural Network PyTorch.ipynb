{
 "cells": [
  {
   "cell_type": "markdown",
   "id": "528f7c31",
   "metadata": {},
   "source": [
    "# Simple Neural Network using PyTorch #\n",
    "\n",
    "Author: ****Pier Luca Anania****"
   ]
  },
  {
   "cell_type": "code",
   "execution_count": 3,
   "id": "a544505a",
   "metadata": {},
   "outputs": [
    {
     "name": "stdout",
     "output_type": "stream",
     "text": [
      "Requirement already satisfied: torch in c:\\users\\asus\\anaconda3\\lib\\site-packages (2.1.1)\n",
      "Requirement already satisfied: filelock in c:\\users\\asus\\anaconda3\\lib\\site-packages (from torch) (3.9.0)\n",
      "Requirement already satisfied: typing-extensions in c:\\users\\asus\\anaconda3\\lib\\site-packages (from torch) (4.7.1)\n",
      "Requirement already satisfied: sympy in c:\\users\\asus\\anaconda3\\lib\\site-packages (from torch) (1.11.1)\n",
      "Requirement already satisfied: networkx in c:\\users\\asus\\anaconda3\\lib\\site-packages (from torch) (3.1)\n",
      "Requirement already satisfied: jinja2 in c:\\users\\asus\\anaconda3\\lib\\site-packages (from torch) (3.1.2)\n",
      "Requirement already satisfied: fsspec in c:\\users\\asus\\anaconda3\\lib\\site-packages (from torch) (2023.4.0)\n",
      "Requirement already satisfied: MarkupSafe>=2.0 in c:\\users\\asus\\anaconda3\\lib\\site-packages (from jinja2->torch) (2.1.1)\n",
      "Requirement already satisfied: mpmath>=0.19 in c:\\users\\asus\\anaconda3\\lib\\site-packages (from sympy->torch) (1.3.0)\n",
      "Note: you may need to restart the kernel to use updated packages.\n"
     ]
    }
   ],
   "source": [
    "pip install torch"
   ]
  },
  {
   "cell_type": "markdown",
   "id": "702d4e41",
   "metadata": {},
   "source": [
    "In this example we're going to use **Iris Dataset**"
   ]
  },
  {
   "cell_type": "code",
   "execution_count": 6,
   "id": "633e8180",
   "metadata": {},
   "outputs": [],
   "source": [
    "import torch\n",
    "import torch.nn as nn                   #Neural Network\n",
    "import torch.nn.functional as F         #to move data forward in our function"
   ]
  },
  {
   "cell_type": "markdown",
   "id": "bc751aae",
   "metadata": {},
   "source": [
    "Create a model class that inherits _nn.Module_"
   ]
  },
  {
   "cell_type": "code",
   "execution_count": 13,
   "id": "34282bc1",
   "metadata": {},
   "outputs": [],
   "source": [
    "class Model(nn.Module):\n",
    "    \n",
    "    '''Structure:\n",
    "    - Input Layer (4 features of the flower: sepal lenght/width, petal lenght/width)\n",
    "    - Hidden Layer 1 := H1 (# of neurons)\n",
    "    - H2 (# of neurons)\n",
    "    - Output Layer (3 classes of Iris flowers: Iris Setosa/Versicolour/Virginica)\n",
    "    '''\n",
    "    def __init__(self, in_features=4, h1=8, h2=9, out_features=3):\n",
    "        \n",
    "        super().__init__()                                 #instantiate our nn.Module\n",
    "        self.fc1 = nn.Linear(in_features, h1)              #fc := fully connected\n",
    "        self.fc2 = nn.Linear(h1, h2)\n",
    "        self.out = nn.Linear(h2, out_features)\n",
    "    \n",
    "    def forward(self, x):       #function to move everything forward\n",
    "        \n",
    "        x = F.relu(self.fc1(x))\n",
    "        x = F.relu(self.fc2(x))\n",
    "        x = self.out(x)\n",
    "        \n",
    "        return x\n"
   ]
  },
  {
   "cell_type": "markdown",
   "id": "99c3a919",
   "metadata": {},
   "source": [
    "Pick a manual seed for randomization"
   ]
  },
  {
   "cell_type": "code",
   "execution_count": 14,
   "id": "c93289ca",
   "metadata": {},
   "outputs": [
    {
     "data": {
      "text/plain": [
       "<torch._C.Generator at 0x162894c8f90>"
      ]
     },
     "execution_count": 14,
     "metadata": {},
     "output_type": "execute_result"
    }
   ],
   "source": [
    "torch.manual_seed(41)"
   ]
  },
  {
   "cell_type": "markdown",
   "id": "acc54c0d",
   "metadata": {},
   "source": [
    "Create an instance of our Model"
   ]
  },
  {
   "cell_type": "code",
   "execution_count": 15,
   "id": "9ab3dba6",
   "metadata": {},
   "outputs": [],
   "source": [
    "model = Model()"
   ]
  },
  {
   "cell_type": "markdown",
   "id": "c872c48b",
   "metadata": {},
   "source": [
    "## Working with Data"
   ]
  },
  {
   "cell_type": "code",
   "execution_count": 27,
   "id": "f54287b7",
   "metadata": {},
   "outputs": [
    {
     "data": {
      "text/html": [
       "<div>\n",
       "<style scoped>\n",
       "    .dataframe tbody tr th:only-of-type {\n",
       "        vertical-align: middle;\n",
       "    }\n",
       "\n",
       "    .dataframe tbody tr th {\n",
       "        vertical-align: top;\n",
       "    }\n",
       "\n",
       "    .dataframe thead th {\n",
       "        text-align: right;\n",
       "    }\n",
       "</style>\n",
       "<table border=\"1\" class=\"dataframe\">\n",
       "  <thead>\n",
       "    <tr style=\"text-align: right;\">\n",
       "      <th></th>\n",
       "      <th>sepal.length</th>\n",
       "      <th>sepal.width</th>\n",
       "      <th>petal.length</th>\n",
       "      <th>petal.width</th>\n",
       "      <th>variety</th>\n",
       "    </tr>\n",
       "  </thead>\n",
       "  <tbody>\n",
       "    <tr>\n",
       "      <th>0</th>\n",
       "      <td>5.1</td>\n",
       "      <td>3.5</td>\n",
       "      <td>1.4</td>\n",
       "      <td>0.2</td>\n",
       "      <td>Setosa</td>\n",
       "    </tr>\n",
       "    <tr>\n",
       "      <th>1</th>\n",
       "      <td>4.9</td>\n",
       "      <td>3.0</td>\n",
       "      <td>1.4</td>\n",
       "      <td>0.2</td>\n",
       "      <td>Setosa</td>\n",
       "    </tr>\n",
       "    <tr>\n",
       "      <th>2</th>\n",
       "      <td>4.7</td>\n",
       "      <td>3.2</td>\n",
       "      <td>1.3</td>\n",
       "      <td>0.2</td>\n",
       "      <td>Setosa</td>\n",
       "    </tr>\n",
       "    <tr>\n",
       "      <th>3</th>\n",
       "      <td>4.6</td>\n",
       "      <td>3.1</td>\n",
       "      <td>1.5</td>\n",
       "      <td>0.2</td>\n",
       "      <td>Setosa</td>\n",
       "    </tr>\n",
       "    <tr>\n",
       "      <th>4</th>\n",
       "      <td>5.0</td>\n",
       "      <td>3.6</td>\n",
       "      <td>1.4</td>\n",
       "      <td>0.2</td>\n",
       "      <td>Setosa</td>\n",
       "    </tr>\n",
       "  </tbody>\n",
       "</table>\n",
       "</div>"
      ],
      "text/plain": [
       "   sepal.length  sepal.width  petal.length  petal.width variety\n",
       "0           5.1          3.5           1.4          0.2  Setosa\n",
       "1           4.9          3.0           1.4          0.2  Setosa\n",
       "2           4.7          3.2           1.3          0.2  Setosa\n",
       "3           4.6          3.1           1.5          0.2  Setosa\n",
       "4           5.0          3.6           1.4          0.2  Setosa"
      ]
     },
     "execution_count": 27,
     "metadata": {},
     "output_type": "execute_result"
    }
   ],
   "source": [
    "import matplotlib.pyplot as plt\n",
    "import pandas as pd\n",
    "%matplotlib inline \n",
    "\n",
    "url = 'https://gist.githubusercontent.com/netj/8836201/raw/6f9306ad21398ea43cba4f7d537619d0e07d5ae3/iris.csv'\n",
    "my_df = pd.read_csv(url)\n",
    "my_df.head(5)"
   ]
  },
  {
   "cell_type": "code",
   "execution_count": 37,
   "id": "6d0ec46f",
   "metadata": {},
   "outputs": [
    {
     "data": {
      "text/plain": [
       "array(['Setosa', 'Versicolor', 'Virginica'], dtype=object)"
      ]
     },
     "execution_count": 37,
     "metadata": {},
     "output_type": "execute_result"
    }
   ],
   "source": [
    "#Visualize different elements of variety\n",
    "\n",
    "my_df['variety'].unique()"
   ]
  },
  {
   "cell_type": "code",
   "execution_count": 38,
   "id": "bc8e7025",
   "metadata": {},
   "outputs": [
    {
     "data": {
      "text/plain": [
       "array([0., 1., 2.])"
      ]
     },
     "execution_count": 38,
     "metadata": {},
     "output_type": "execute_result"
    }
   ],
   "source": [
    "#Encoding variety column: str --> int\n",
    "\n",
    "my_df['variety'] = my_df['variety'].replace('Setosa', 0.0)\n",
    "my_df['variety'] = my_df['variety'].replace('Versicolor', 1.0)\n",
    "my_df['variety'] = my_df['variety'].replace('Virginica', 2.0)\n",
    "\n",
    "my_df['variety'].unique()"
   ]
  },
  {
   "cell_type": "markdown",
   "id": "71f10cc1",
   "metadata": {},
   "source": [
    "Train Test Split ---> set X,y"
   ]
  },
  {
   "cell_type": "code",
   "execution_count": 55,
   "id": "dafbddf4",
   "metadata": {},
   "outputs": [],
   "source": [
    "X = my_df.drop('variety', axis=1)    #Select features w/o variety\n",
    "y = my_df['variety']"
   ]
  },
  {
   "cell_type": "markdown",
   "id": "c578daf8",
   "metadata": {},
   "source": [
    "Convert the dataframe into numpy arrays"
   ]
  },
  {
   "cell_type": "code",
   "execution_count": 56,
   "id": "d869d98b",
   "metadata": {},
   "outputs": [],
   "source": [
    "X = X.values\n",
    "y = y.values"
   ]
  },
  {
   "cell_type": "markdown",
   "id": "c660e907",
   "metadata": {},
   "source": [
    "Start work on NN"
   ]
  },
  {
   "cell_type": "code",
   "execution_count": 57,
   "id": "0c626a9e",
   "metadata": {},
   "outputs": [],
   "source": [
    "from sklearn.model_selection import train_test_split\n",
    "\n",
    "X_train, X_test, y_train, y_test = train_test_split(X, y, \n",
    "                                                    test_size=0.2,        \n",
    "                                                    random_state=41)     # % of test data"
   ]
  },
  {
   "cell_type": "markdown",
   "id": "7181f492",
   "metadata": {},
   "source": [
    "Convert X features to Tensor with float numbers"
   ]
  },
  {
   "cell_type": "code",
   "execution_count": 58,
   "id": "932f8759",
   "metadata": {},
   "outputs": [],
   "source": [
    "X_train = torch.FloatTensor(X_train)\n",
    "X_test = torch.FloatTensor(X_test)"
   ]
  },
  {
   "cell_type": "markdown",
   "id": "18cbdacc",
   "metadata": {},
   "source": [
    "Convert y labels to Tensor Long"
   ]
  },
  {
   "cell_type": "code",
   "execution_count": 59,
   "id": "b21429cc",
   "metadata": {},
   "outputs": [],
   "source": [
    "y_train = torch.LongTensor(y_train)\n",
    "y_test = torch.LongTensor(y_test)"
   ]
  },
  {
   "cell_type": "markdown",
   "id": "cec504a2",
   "metadata": {},
   "source": [
    "Set the criterion to measure the error, how far off the predictions are from the data"
   ]
  },
  {
   "cell_type": "code",
   "execution_count": 62,
   "id": "2c9bdfb6",
   "metadata": {},
   "outputs": [],
   "source": [
    "criterion = nn.CrossEntropyLoss()"
   ]
  },
  {
   "cell_type": "markdown",
   "id": "ce68f5f3",
   "metadata": {},
   "source": [
    "Choose ADAM optimizer: lr := learning rate"
   ]
  },
  {
   "cell_type": "code",
   "execution_count": 63,
   "id": "83179b98",
   "metadata": {},
   "outputs": [
    {
     "data": {
      "text/plain": [
       "<bound method Module.parameters of Model(\n",
       "  (fc1): Linear(in_features=4, out_features=8, bias=True)\n",
       "  (fc2): Linear(in_features=8, out_features=9, bias=True)\n",
       "  (out): Linear(in_features=9, out_features=3, bias=True)\n",
       ")>"
      ]
     },
     "execution_count": 63,
     "metadata": {},
     "output_type": "execute_result"
    }
   ],
   "source": [
    "optimizer = torch.optim.Adam(model.parameters(), lr=0.01)\n",
    "model.parameters #just to show"
   ]
  },
  {
   "cell_type": "markdown",
   "id": "2d397ba9",
   "metadata": {},
   "source": [
    "Train model:\n",
    "\n",
    "number of Epochs -- Epoch is one run thru all the training data in our network"
   ]
  },
  {
   "cell_type": "code",
   "execution_count": 75,
   "id": "7643efbc",
   "metadata": {},
   "outputs": [
    {
     "name": "stdout",
     "output_type": "stream",
     "text": [
      "Epoch: 0 Loss: 0.05286872759461403\n",
      "Epoch: 10 Loss: 0.04508011043071747\n",
      "Epoch: 20 Loss: 0.03979313746094704\n",
      "Epoch: 30 Loss: 0.03596426174044609\n",
      "Epoch: 40 Loss: 0.033027999103069305\n",
      "Epoch: 50 Loss: 0.030512522906064987\n",
      "Epoch: 60 Loss: 0.027733536437153816\n",
      "Epoch: 70 Loss: 0.02461211010813713\n",
      "Epoch: 80 Loss: 0.021672355011105537\n",
      "Epoch: 90 Loss: 0.019320257008075714\n",
      "Epoch: 100 Loss: 0.017492903396487236\n",
      "Epoch: 110 Loss: 0.01604403369128704\n",
      "Epoch: 120 Loss: 0.01484010647982359\n",
      "Epoch: 130 Loss: 0.013800365850329399\n",
      "Epoch: 140 Loss: 0.012879195623099804\n",
      "Epoch: 150 Loss: 0.012144872918725014\n",
      "Epoch: 160 Loss: 0.011602848768234253\n",
      "Epoch: 170 Loss: 0.010984020307660103\n",
      "Epoch: 180 Loss: 0.01027061976492405\n",
      "Epoch: 190 Loss: 0.009707191027700901\n"
     ]
    }
   ],
   "source": [
    "epochs = 200\n",
    "losses = []\n",
    "\n",
    "for i in range(epochs):\n",
    "    \n",
    "    #Go forward and get prediction\n",
    "    y_pred = model.forward(X_train)\n",
    "    \n",
    "    #Measure the loss: predicted values - trained values\n",
    "    loss = criterion(y_pred, y_train)\n",
    "    \n",
    "    #Keep track of our losses\n",
    "    losses.append(loss.detach().numpy())\n",
    "    \n",
    "    #Print every 10 Epochs\n",
    "    if i%10 == 0:\n",
    "        print(f'Epoch: {i} Loss: {loss}')\n",
    "    \n",
    "    #Backpropagation -> fine tuning of the weights\n",
    "    optimizer.zero_grad()\n",
    "    loss.backward()\n",
    "    optimizer.step()"
   ]
  },
  {
   "cell_type": "markdown",
   "id": "6722e230",
   "metadata": {},
   "source": [
    "Graph"
   ]
  },
  {
   "cell_type": "code",
   "execution_count": 78,
   "id": "2621d5f9",
   "metadata": {},
   "outputs": [
    {
     "data": {
      "image/png": "[encoded data removed]",
      "text/plain": [
       "<Figure size 640x480 with 1 Axes>"
      ]
     },
     "metadata": {},
     "output_type": "display_data"
    }
   ],
   "source": [
    "plt.plot(range(epochs), losses)\n",
    "plt.xlabel('Epoch')\n",
    "plt.ylabel('Error')\n",
    "plt.grid()"
   ]
  },
  {
   "cell_type": "code",
   "execution_count": null,
   "id": "32337424",
   "metadata": {},
   "outputs": [],
   "source": []
  }
 ],
 "metadata": {
  "kernelspec": {
   "display_name": "Python 3 (ipykernel)",
   "language": "python",
   "name": "python3"
  },
  "language_info": {
   "codemirror_mode": {
    "name": "ipython",
    "version": 3
   },
   "file_extension": ".py",
   "mimetype": "text/x-python",
   "name": "python",
   "nbconvert_exporter": "python",
   "pygments_lexer": "ipython3",
   "version": "3.11.5"
  }
 },
 "nbformat": 4,
 "nbformat_minor": 5
}

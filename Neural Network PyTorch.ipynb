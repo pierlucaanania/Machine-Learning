{
 "cells": [
  {
   "cell_type": "markdown",
   "id": "29f593c7",
   "metadata": {},
   "source": [
    "# Simple Neural Network using PyTorch #\n",
    "\n",
    "Author: ****Pier Luca Anania****"
   ]
  },
  {
   "cell_type": "code",
   "execution_count": 3,
   "id": "5d72b646",
   "metadata": {},
   "outputs": [
    {
     "name": "stdout",
     "output_type": "stream",
     "text": [
      "Requirement already satisfied: torch in c:\\users\\asus\\anaconda3\\lib\\site-packages (2.1.1)\n",
      "Requirement already satisfied: filelock in c:\\users\\asus\\anaconda3\\lib\\site-packages (from torch) (3.9.0)\n",
      "Requirement already satisfied: typing-extensions in c:\\users\\asus\\anaconda3\\lib\\site-packages (from torch) (4.7.1)\n",
      "Requirement already satisfied: sympy in c:\\users\\asus\\anaconda3\\lib\\site-packages (from torch) (1.11.1)\n",
      "Requirement already satisfied: networkx in c:\\users\\asus\\anaconda3\\lib\\site-packages (from torch) (3.1)\n",
      "Requirement already satisfied: jinja2 in c:\\users\\asus\\anaconda3\\lib\\site-packages (from torch) (3.1.2)\n",
      "Requirement already satisfied: fsspec in c:\\users\\asus\\anaconda3\\lib\\site-packages (from torch) (2023.4.0)\n",
      "Requirement already satisfied: MarkupSafe>=2.0 in c:\\users\\asus\\anaconda3\\lib\\site-packages (from jinja2->torch) (2.1.1)\n",
      "Requirement already satisfied: mpmath>=0.19 in c:\\users\\asus\\anaconda3\\lib\\site-packages (from sympy->torch) (1.3.0)\n",
      "Note: you may need to restart the kernel to use updated packages.\n"
     ]
    }
   ],
   "source": [
    "pip install torch"
   ]
  },
  {
   "cell_type": "markdown",
   "id": "97622bd0",
   "metadata": {},
   "source": [
    "In this example we're going to use **Iris Dataset**"
   ]
  },
  {
   "cell_type": "code",
   "execution_count": 6,
   "id": "65b0fde7",
   "metadata": {},
   "outputs": [],
   "source": [
    "import torch\n",
    "import torch.nn as nn                   #Neural Network\n",
    "import torch.nn.functional as F         #to move data forward in our function"
   ]
  },
  {
   "cell_type": "markdown",
   "id": "8792dd0d",
   "metadata": {},
   "source": [
    "Create a model class that inherits _nn.Module_"
   ]
  },
  {
   "cell_type": "code",
   "execution_count": 13,
   "id": "87b9ed61",
   "metadata": {},
   "outputs": [],
   "source": [
    "class Model(nn.Module):\n",
    "    \n",
    "    '''Structure:\n",
    "    - Input Layer (4 features of the flower: sepal lenght/width, petal lenght/width)\n",
    "    - Hidden Layer 1 := H1 (# of neurons)\n",
    "    - H2 (# of neurons)\n",
    "    - Output Layer (3 classes of Iris flowers: Iris Setosa/Versicolour/Virginica)\n",
    "    '''\n",
    "    def __init__(self, in_features=4, h1=8, h2=9, out_features=3):\n",
    "        \n",
    "        super().__init__()                                 #instantiate our nn.Module\n",
    "        self.fc1 = nn.Linear(in_features, h1)              #fc := fully connected\n",
    "        self.fc2 = nn.Linear(h1, h2)\n",
    "        self.out = nn.Linear(h2, out_features)\n",
    "    \n",
    "    def forward(self, x):       #function to move everything forward\n",
    "        \n",
    "        x = F.relu(self.fc1(x))\n",
    "        x = F.relu(self.fc2(x))\n",
    "        x = self.out(x)\n",
    "        \n",
    "        return x\n"
   ]
  },
  {
   "cell_type": "markdown",
   "id": "577ef971",
   "metadata": {},
   "source": [
    "Pick a manual seed for randomization"
   ]
  },
  {
   "cell_type": "code",
   "execution_count": 14,
   "id": "f6925cdf",
   "metadata": {},
   "outputs": [
    {
     "data": {
      "text/plain": [
       "<torch._C.Generator at 0x162894c8f90>"
      ]
     },
     "execution_count": 14,
     "metadata": {},
     "output_type": "execute_result"
    }
   ],
   "source": [
    "torch.manual_seed(41)"
   ]
  },
  {
   "cell_type": "markdown",
   "id": "1f745fad",
   "metadata": {},
   "source": [
    "Create an instance of our Model"
   ]
  },
  {
   "cell_type": "code",
   "execution_count": 15,
   "id": "5edc4bdc",
   "metadata": {},
   "outputs": [],
   "source": [
    "model = Model()"
   ]
  },
  {
   "cell_type": "markdown",
   "id": "6f8ad283",
   "metadata": {},
   "source": [
    "## Working with Data"
   ]
  },
  {
   "cell_type": "code",
   "execution_count": 24,
   "id": "6f943874",
   "metadata": {},
   "outputs": [
    {
     "data": {
      "text/html": [
       "<div>\n",
       "<style scoped>\n",
       "    .dataframe tbody tr th:only-of-type {\n",
       "        vertical-align: middle;\n",
       "    }\n",
       "\n",
       "    .dataframe tbody tr th {\n",
       "        vertical-align: top;\n",
       "    }\n",
       "\n",
       "    .dataframe thead th {\n",
       "        text-align: right;\n",
       "    }\n",
       "</style>\n",
       "<table border=\"1\" class=\"dataframe\">\n",
       "  <thead>\n",
       "    <tr style=\"text-align: right;\">\n",
       "      <th></th>\n",
       "      <th>document.write('&lt;link rel=\"stylesheet\" href=\"https://github.githubassets.com/assets/gist-embed-f65f23c5975e.css\"&gt;')</th>\n",
       "    </tr>\n",
       "  </thead>\n",
       "  <tbody>\n",
       "    <tr>\n",
       "      <th>document.write('&lt;div id=\\\"gist8836201\\\" class=\\\"gist\\\"&gt;\\n    &lt;div class=\\\"gist-file\\\" translate=\\\"no\\\"&gt;\\n      &lt;div class=\\\"gist-data\\\"&gt;\\n        &lt;div class=\\\"js-gist-file-update-container js-task-list-container file-box\\\"&gt;\\n  &lt;div id=\\\"file-iris-csv\\\" class=\\\"file my-2\\\"&gt;\\n    \\n    &lt;div itemprop=\\\"text\\\" class=\\\"Box-body p-0 blob-wrapper data type-csv  \\\"&gt;\\n\\n        &lt;div class=\\\"blob-interaction-bar\\\"&gt;\\n  &lt;svg aria-hidden=\\\"true\\\" height=\\\"16\\\" viewBox=\\\"0 0 16 16\\\" version=\\\"1.1\\\" width=\\\"16\\\" data-view-component=\\\"true\\\" class=\\\"octicon octicon-search\\\"&gt;\\n    &lt;path d=\\\"M10.68 11.74a6 6 0 0 1-7.922-8.982 6 6 0 0 1 8.982 7.922l3.04 3.04a.749.749 0 0 1-.326 1.275.749.749 0 0 1-.734-.215ZM11.5 7a4.499 4.499 0 1 0-8.997 0A4.499 4.499 0 0 0 11.5 7Z\\\"&gt;&lt;\\/path&gt;\\n&lt;\\/svg&gt;\\n  &lt;input type=\\\"text\\\" name=\\\"filter\\\" class=\\\"form-control js-csv-filter-field blob-filter\\\" autocapitalize=\\\"off\\\"\\n         placeholder=\\\"Search this file…\\\" aria-label=\\\"Search this file…\\\"&gt;\\n&lt;\\/div&gt;\\n\\n  &lt;div class=\\\"markdown-body js-check-bidi\\\" data-line-alert=\\\"before\\\" data-hpc&gt;\\n    &lt;template class=\\\"js-file-alert-template\\\"&gt;\\n  &lt;div data-view-component=\\\"true\\\" class=\\\"flash flash-warn flash-full d-flex flex-items-center\\\"&gt;\\n  &lt;svg aria-hidden=\\\"true\\\" height=\\\"16\\\" viewBox=\\\"0 0 16 16\\\" version=\\\"1.1\\\" width=\\\"16\\\" data-view-component=\\\"true\\\" class=\\\"octicon octicon-alert\\\"&gt;\\n    &lt;path d=\\\"M6.457 1.047c.659-1.234 2.427-1.234 3.086 0l6.082 11.378A1.75 1.75 0 0 1 14.082 15H1.918a1.75 1.75 0 0 1-1.543-2.575Zm1.763.707a.25.25 0 0 0-.44 0L1.698 13.132a.25.25 0 0 0 .22.368h12.164a.25.25 0 0 0 .22-.368Zm.53 3.996v2.5a.75.75 0 0 1-1.5 0v-2.5a.75.75 0 0 1 1.5 0ZM9 11a1 1 0 1 1-2 0 1 1 0 0 1 2 0Z\\\"&gt;&lt;\\/path&gt;\\n&lt;\\/svg&gt;\\n    &lt;span&gt;\\n      This file contains bidirectional Unicode text that may be interpreted or compiled differently than what appears below. To review</th>\n",
       "      <td>open the file in an editor that reveals hidde...</td>\n",
       "    </tr>\n",
       "  </tbody>\n",
       "</table>\n",
       "</div>"
      ],
      "text/plain": [
       "                                                   document.write('<link rel=\"stylesheet\" href=\"https://github.githubassets.com/assets/gist-embed-f65f23c5975e.css\">')\n",
       "document.write('<div id=\\\"gist8836201\\\" class=\\...   open the file in an editor that reveals hidde...                                                                 "
      ]
     },
     "execution_count": 24,
     "metadata": {},
     "output_type": "execute_result"
    }
   ],
   "source": [
    "import matplotlib.pyplot as plt\n",
    "import pandas as pd\n",
    "%matplotlib inline \n",
    "\n",
    "url = 'https://gist.github.com/netj/8836201.js'\n",
    "my_df = pd.read_csv(url)\n",
    "my_df"
   ]
  },
  {
   "cell_type": "code",
   "execution_count": null,
   "id": "d0b1fdbb",
   "metadata": {},
   "outputs": [],
   "source": []
  }
 ],
 "metadata": {
  "kernelspec": {
   "display_name": "Python 3 (ipykernel)",
   "language": "python",
   "name": "python3"
  },
  "language_info": {
   "codemirror_mode": {
    "name": "ipython",
    "version": 3
   },
   "file_extension": ".py",
   "mimetype": "text/x-python",
   "name": "python",
   "nbconvert_exporter": "python",
   "pygments_lexer": "ipython3",
   "version": "3.11.5"
  }
 },
 "nbformat": 4,
 "nbformat_minor": 5
}
